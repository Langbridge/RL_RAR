{
 "cells": [
  {
   "cell_type": "code",
   "execution_count": 1,
   "metadata": {},
   "outputs": [
    {
     "name": "stderr",
     "output_type": "stream",
     "text": [
      "/usr/local/Caskroom/miniconda/base/envs/marl/lib/python3.8/site-packages/ray/tune/logger/tensorboardx.py:35: DeprecationWarning: `np.bool8` is a deprecated alias for `np.bool_`.  (Deprecated NumPy 1.24)\n",
      "  VALID_NP_HPARAMS = (np.bool8, np.float32, np.float64, np.int32, np.int64)\n",
      "/usr/local/Caskroom/miniconda/base/envs/marl/lib/python3.8/site-packages/skimage/util/dtype.py:27: DeprecationWarning: `np.bool8` is a deprecated alias for `np.bool_`.  (Deprecated NumPy 1.24)\n",
      "  np.bool8: (False, True),\n"
     ]
    }
   ],
   "source": [
    "import numpy as np\n",
    "from simple_grid_env import SimpleGridEnv"
   ]
  },
  {
   "cell_type": "code",
   "execution_count": 2,
   "metadata": {},
   "outputs": [
    {
     "name": "stdout",
     "output_type": "stream",
     "text": [
      "Starting from 10 and travelling to 4\n"
     ]
    }
   ],
   "source": [
    "env_config = {\n",
    "    'size': 5\n",
    "}\n",
    "env = SimpleGridEnv(env_config)"
   ]
  },
  {
   "cell_type": "code",
   "execution_count": 3,
   "metadata": {},
   "outputs": [
    {
     "ename": "AttributeError",
     "evalue": "'CustomEnvironment' object has no attribute 'pos'",
     "output_type": "error",
     "traceback": [
      "\u001b[0;31m---------------------------------------------------------------------------\u001b[0m",
      "\u001b[0;31mAttributeError\u001b[0m                            Traceback (most recent call last)",
      "Cell \u001b[0;32mIn[3], line 4\u001b[0m\n\u001b[1;32m      1\u001b[0m \u001b[39mimport\u001b[39;00m \u001b[39mrandom\u001b[39;00m\n\u001b[1;32m      3\u001b[0m \u001b[39mfor\u001b[39;00m i \u001b[39min\u001b[39;00m \u001b[39mrange\u001b[39m(\u001b[39m80\u001b[39m):\n\u001b[0;32m----> 4\u001b[0m     \u001b[39mprint\u001b[39m(\u001b[39mf\u001b[39m\u001b[39m\"\u001b[39m\u001b[39mValid moves: \u001b[39m\u001b[39m{\u001b[39;00m[y\u001b[39m \u001b[39m\u001b[39mfor\u001b[39;00m\u001b[39m \u001b[39m(x,\u001b[39m \u001b[39my)\u001b[39m \u001b[39m\u001b[39min\u001b[39;00m\u001b[39m \u001b[39menv\u001b[39m.\u001b[39mG\u001b[39m.\u001b[39medges(env\u001b[39m.\u001b[39mpos)]\u001b[39m}\u001b[39;00m\u001b[39m\"\u001b[39m)\n\u001b[1;32m      5\u001b[0m     action \u001b[39m=\u001b[39m random\u001b[39m.\u001b[39mchoice([y \u001b[39mfor\u001b[39;00m (x, y) \u001b[39min\u001b[39;00m env\u001b[39m.\u001b[39mG\u001b[39m.\u001b[39medges(env\u001b[39m.\u001b[39mpos)])\n\u001b[1;32m      7\u001b[0m     res \u001b[39m=\u001b[39m env\u001b[39m.\u001b[39mstep(action)\n",
      "\u001b[0;31mAttributeError\u001b[0m: 'CustomEnvironment' object has no attribute 'pos'"
     ]
    }
   ],
   "source": [
    "import random\n",
    "\n",
    "for i in range(80):\n",
    "    print(f\"Valid moves: {[y for (x, y) in env.G.edges(env.pos)]}\")\n",
    "    action = random.choice([y for (x, y) in env.G.edges(env.pos)])\n",
    "\n",
    "    res = env.step(action)\n",
    "    print(f\"Moving to {env.pos}, cumulative reward: {res[1]}\")\n",
    "    if res[2]:\n",
    "        print(f\"Navigated to the endpoint in {i} steps!\")\n",
    "        break"
   ]
  }
 ],
 "metadata": {
  "kernelspec": {
   "display_name": "marl",
   "language": "python",
   "name": "python3"
  },
  "language_info": {
   "codemirror_mode": {
    "name": "ipython",
    "version": 3
   },
   "file_extension": ".py",
   "mimetype": "text/x-python",
   "name": "python",
   "nbconvert_exporter": "python",
   "pygments_lexer": "ipython3",
   "version": "3.8.16"
  },
  "orig_nbformat": 4,
  "vscode": {
   "interpreter": {
    "hash": "0cded624f6e02566350bc45c60f85b3d07567138e459b9c4cb465a09e882cbdd"
   }
  }
 },
 "nbformat": 4,
 "nbformat_minor": 2
}
